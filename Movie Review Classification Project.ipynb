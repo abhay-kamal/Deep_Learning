{
 "cells": [
  {
   "cell_type": "code",
   "execution_count": 1,
   "id": "23374ca3",
   "metadata": {},
   "outputs": [],
   "source": [
    "import numpy as np\n",
    "import pandas as pd\n",
    "import matplotlib.pyplot as plt\n",
    "%matplotlib inline\n",
    "import seaborn as sns"
   ]
  },
  {
   "cell_type": "code",
   "execution_count": 2,
   "id": "32fa4c75",
   "metadata": {},
   "outputs": [
    {
     "data": {
      "text/html": [
       "<div>\n",
       "<style scoped>\n",
       "    .dataframe tbody tr th:only-of-type {\n",
       "        vertical-align: middle;\n",
       "    }\n",
       "\n",
       "    .dataframe tbody tr th {\n",
       "        vertical-align: top;\n",
       "    }\n",
       "\n",
       "    .dataframe thead th {\n",
       "        text-align: right;\n",
       "    }\n",
       "</style>\n",
       "<table border=\"1\" class=\"dataframe\">\n",
       "  <thead>\n",
       "    <tr style=\"text-align: right;\">\n",
       "      <th></th>\n",
       "      <th>review</th>\n",
       "      <th>sentiment</th>\n",
       "    </tr>\n",
       "  </thead>\n",
       "  <tbody>\n",
       "    <tr>\n",
       "      <th>0</th>\n",
       "      <td>This movie is just crap. Even though the direc...</td>\n",
       "      <td>0</td>\n",
       "    </tr>\n",
       "    <tr>\n",
       "      <th>1</th>\n",
       "      <td>Another detailed work on the subject by Dr Dwi...</td>\n",
       "      <td>1</td>\n",
       "    </tr>\n",
       "    <tr>\n",
       "      <th>2</th>\n",
       "      <td>THE CAT O'NINE TAILS (Il Gatto a Nove Code) &lt;b...</td>\n",
       "      <td>0</td>\n",
       "    </tr>\n",
       "    <tr>\n",
       "      <th>3</th>\n",
       "      <td>Like with any movie genre, there are good gang...</td>\n",
       "      <td>0</td>\n",
       "    </tr>\n",
       "    <tr>\n",
       "      <th>4</th>\n",
       "      <td>I watched it with my mom and we were like...&lt;b...</td>\n",
       "      <td>0</td>\n",
       "    </tr>\n",
       "  </tbody>\n",
       "</table>\n",
       "</div>"
      ],
      "text/plain": [
       "                                              review  sentiment\n",
       "0  This movie is just crap. Even though the direc...          0\n",
       "1  Another detailed work on the subject by Dr Dwi...          1\n",
       "2  THE CAT O'NINE TAILS (Il Gatto a Nove Code) <b...          0\n",
       "3  Like with any movie genre, there are good gang...          0\n",
       "4  I watched it with my mom and we were like...<b...          0"
      ]
     },
     "execution_count": 2,
     "metadata": {},
     "output_type": "execute_result"
    }
   ],
   "source": [
    "df=pd.read_csv('movie_data.csv')[0:10000]\n",
    "df.head()"
   ]
  },
  {
   "cell_type": "code",
   "execution_count": 3,
   "id": "4cfffce6",
   "metadata": {},
   "outputs": [
    {
     "name": "stdout",
     "output_type": "stream",
     "text": [
      "<class 'pandas.core.frame.DataFrame'>\n",
      "RangeIndex: 10000 entries, 0 to 9999\n",
      "Data columns (total 2 columns):\n",
      " #   Column     Non-Null Count  Dtype \n",
      "---  ------     --------------  ----- \n",
      " 0   review     10000 non-null  object\n",
      " 1   sentiment  10000 non-null  int64 \n",
      "dtypes: int64(1), object(1)\n",
      "memory usage: 156.4+ KB\n"
     ]
    }
   ],
   "source": [
    "df.info()"
   ]
  },
  {
   "cell_type": "code",
   "execution_count": 4,
   "id": "11a1eb45",
   "metadata": {},
   "outputs": [
    {
     "data": {
      "text/html": [
       "<div>\n",
       "<style scoped>\n",
       "    .dataframe tbody tr th:only-of-type {\n",
       "        vertical-align: middle;\n",
       "    }\n",
       "\n",
       "    .dataframe tbody tr th {\n",
       "        vertical-align: top;\n",
       "    }\n",
       "\n",
       "    .dataframe thead th {\n",
       "        text-align: right;\n",
       "    }\n",
       "</style>\n",
       "<table border=\"1\" class=\"dataframe\">\n",
       "  <thead>\n",
       "    <tr style=\"text-align: right;\">\n",
       "      <th></th>\n",
       "      <th>sentiment</th>\n",
       "    </tr>\n",
       "  </thead>\n",
       "  <tbody>\n",
       "    <tr>\n",
       "      <th>count</th>\n",
       "      <td>10000.000000</td>\n",
       "    </tr>\n",
       "    <tr>\n",
       "      <th>mean</th>\n",
       "      <td>0.504300</td>\n",
       "    </tr>\n",
       "    <tr>\n",
       "      <th>std</th>\n",
       "      <td>0.500007</td>\n",
       "    </tr>\n",
       "    <tr>\n",
       "      <th>min</th>\n",
       "      <td>0.000000</td>\n",
       "    </tr>\n",
       "    <tr>\n",
       "      <th>25%</th>\n",
       "      <td>0.000000</td>\n",
       "    </tr>\n",
       "    <tr>\n",
       "      <th>50%</th>\n",
       "      <td>1.000000</td>\n",
       "    </tr>\n",
       "    <tr>\n",
       "      <th>75%</th>\n",
       "      <td>1.000000</td>\n",
       "    </tr>\n",
       "    <tr>\n",
       "      <th>max</th>\n",
       "      <td>1.000000</td>\n",
       "    </tr>\n",
       "  </tbody>\n",
       "</table>\n",
       "</div>"
      ],
      "text/plain": [
       "          sentiment\n",
       "count  10000.000000\n",
       "mean       0.504300\n",
       "std        0.500007\n",
       "min        0.000000\n",
       "25%        0.000000\n",
       "50%        1.000000\n",
       "75%        1.000000\n",
       "max        1.000000"
      ]
     },
     "execution_count": 4,
     "metadata": {},
     "output_type": "execute_result"
    }
   ],
   "source": [
    "df.describe()"
   ]
  },
  {
   "cell_type": "code",
   "execution_count": 5,
   "id": "a067847c",
   "metadata": {},
   "outputs": [
    {
     "data": {
      "text/plain": [
       "review       0\n",
       "sentiment    0\n",
       "dtype: int64"
      ]
     },
     "execution_count": 5,
     "metadata": {},
     "output_type": "execute_result"
    }
   ],
   "source": [
    "df.isna().sum()"
   ]
  },
  {
   "cell_type": "code",
   "execution_count": 6,
   "id": "4275873d",
   "metadata": {},
   "outputs": [
    {
     "data": {
      "text/plain": [
       "8"
      ]
     },
     "execution_count": 6,
     "metadata": {},
     "output_type": "execute_result"
    }
   ],
   "source": [
    "df.duplicated().sum()"
   ]
  },
  {
   "cell_type": "code",
   "execution_count": 7,
   "id": "cf08994e",
   "metadata": {},
   "outputs": [],
   "source": [
    "df.drop_duplicates(inplace=True,keep='first')"
   ]
  },
  {
   "cell_type": "code",
   "execution_count": 8,
   "id": "caf69a02",
   "metadata": {},
   "outputs": [
    {
     "data": {
      "text/plain": [
       "0"
      ]
     },
     "execution_count": 8,
     "metadata": {},
     "output_type": "execute_result"
    }
   ],
   "source": [
    "df.duplicated().sum()"
   ]
  },
  {
   "cell_type": "code",
   "execution_count": 9,
   "id": "1cb4af97",
   "metadata": {},
   "outputs": [
    {
     "data": {
      "text/plain": [
       "<AxesSubplot:xlabel='count', ylabel='sentiment'>"
      ]
     },
     "execution_count": 9,
     "metadata": {},
     "output_type": "execute_result"
    },
    {
     "data": {
      "image/png": "[encoded data removed]",
      "text/plain": [
       "<Figure size 400x300 with 1 Axes>"
      ]
     },
     "metadata": {},
     "output_type": "display_data"
    }
   ],
   "source": [
    "plt.figure(figsize=(4,3))\n",
    "sns.countplot(data=df,y='sentiment')"
   ]
  },
  {
   "cell_type": "code",
   "execution_count": 10,
   "id": "2eccefa0",
   "metadata": {},
   "outputs": [
    {
     "name": "stdout",
     "output_type": "stream",
     "text": [
      "This movie is just crap. Even though the directors claim to be part of that oi-culture, it's still a very, very bad directorial debut. The topic itself is very interesting and I accept the bad acting due to the fact, that they are all amateurs and never acted before, but the worst thing about this film are the dialogs and very unexperienced and naive directing. There's no timing at all in that movie. I felt like the directors were so exited to do that movie (it's their first feature), that they actually never really asked themselves, what story they wanna tell. I met Ben (one of the directors) on several occasions and he's a nice and thoughtful guy, but that doesn't make him a director. I think, that \"American History X\" is full of clichÃ©s, but somehow manages to transport a story. \"Oi!Warning\" is full of clichÃ©s, doesn't tell anything new or provocative and (-that's the sad thing about this movie) it's far from any Oi!-Reality.<br /><br />If you wanna see weird but great German films, watch the movies of Michael Haneke, Christoph Schlingensief, Oskar Roehler, Hans Weingartner or Oliver Hirschbiegel:<br /><br />Benny's Video Funny Games Die UnberÃ¼hrbare Mein Letzter Film Das Experiment Das Weisse Rauschen MuxmÃ¤uschenstill ...<br /><br />*** out of ten, because of the topic and the photography ------------ 0\n",
      "\n",
      "Another detailed work on the subject by Dr Dwivedi takes us back in time to pre-partioned Panjab. Dr Dwivedi chose a difficult subject for his movie debut. He has worked on all meticulous details to bring the story to life. The treatment of the subject is very delicate.<br /><br />Even though we have not been to the region during that time, the sets and costumes look real. Unlike most movies made on partition, this one focuses not on the gory details of violence to attract audience, but on its after-effects. The characters come to life. Priyanshu Chatterjee has given an impressive performance. Manoj Bajpai has acted his heart out showing the plight of a guilt-ridden man. The rest of the cast has done a good job too. ------------ 1\n",
      "\n",
      "THE CAT O'NINE TAILS (Il Gatto a Nove Code) <br /><br />Aspect ratio: 2.35:1 (Cromoscope)<br /><br />Sound format: Mono<br /><br />(35mm and 70mm release prints)<br /><br />A blind ex-journalist (Karl Malden) overhears a blackmail plot outside a genetics research laboratory and later teams up with a fellow reporter (James Franciscus) to investigate a series of murders at the lab, unwittingly placing their own loved ones at the mercy of a psychopathic killer.<br /><br />Rushed into production following the unexpected worldwide success of his directorial debut THE BIRD WITH THE CRYSTAL PLUMAGE (1969), Dario Argento conceived THE CAT O'NINE TAILS as a giallo-thriller in much the same vein as its forerunner, toplining celebrated Hollywood actor Karl Malden - fresh from his appearance in PATTON (1969) - and rising star Franciscus (THE VALLEY OF GWANGI). Sadly, the resulting film - which the ads claimed was 'nine times more suspenseful' than \"Bird\" - is a disappointing follow-up, impeccably photographed and stylishly executed, but too plodding and aimless for general consumption.<br /><br />Malden and Franciscus are eminently watchable in sympathetic roles, and cinematographer Enrico Menczer (THE DEAD ARE ALIVE) uses the wide Cromoscope frame to convey the hi-tech world in which Argento's dark-hearted scenario unfolds, but the subplot involving Euro starlet Catherine Spaak (THE LIBERTINE) as Franciscus' romantic interest amounts to little more than unnecessary padding. Highlights include an unforgettable encounter with the black-gloved assassin in a crowded railway station (edited with sleek assurance by cult movie stalwart Franco Fraticelli), and a nocturnal episode in which Malden and Franciscus seek an important clue inside a mouldering tomb and fall prey to the killer's devious machinations. But despite these flashes of brilliance, the film rambles aimlessly from one scene to the next, simmering gently without ever really coming to the boil. It's no surprise that \"Cat\" failed to emulate the runaway success of \"Bird\" when released in 1971.<br /><br />(English version) ------------ 0\n",
      "\n",
      "Like with any movie genre, there are good gangster movies and there are bad gangster movies. If you asked me to name a good gangster movie, I'd have dozens to choose from. If you asked me to name a bad gangster movie, probably the first one to pop up in my mind is one that still has me in a sort of depression of disappointment about a week since I saw the film for the first and I promise you, the last time. That film is \"The General\", unrelated to the 1926 silent film of the same name. This is a very dry, very slow gangster epic that raises questions not about the story (it's more than easy to follow) but about why the filmmakers chose to make this rather flimsy endeavor.<br /><br />Like \"Goodfellas\" (1990) and \"American Gangster\" (2007)Â—two superior mob moviesÂ—\"The General\" is based on real people and true events. The film revolves around an Irish criminal named Martin Cahill (Brendan Gleeson) who started his long chain of crimes stealing food as a teenager and then moving up to robbing museums and houses as an adult. Meanwhile, the police led by an inspector named Kenny (Jon Voight) try desperately and vigorously to prove just one of his crimes and convict (or kill) him.<br /><br />Perhaps because it's a film in the same category as the marvelous \"Goodfellas\" (1990) and the first two \"Godfather\" films, I was expecting too much from \"The General.\" But that may be going too easy on it. This would have been a bad film had I not seen the aforementioned masterpieces before being swamped by boredom in this oater and its far-too-stretched running time of screaming bad scenes. Let's start knocking the film by just looking at the style in which it is presented. For some reason, director John Boorman and cinematographer Seamus Deasy selected to film this movie in black-and-white while its style and presentation are clearly the elements that belong to a full-fledged color film. Now I have nothing against b/w pictures, not even ones made in modern-day times. \"Schindler's List\" (1993) was more than ninety percent filmed in black-and-white and it's a masterpiece. \"The General\", made just five years after \"Schindler's List\" is not. The cinematography is also far too blown out with high lighting keys that seem very distracting and give the movie a very video-game-like quality that I found simply annoying. The filmmakers were obviously going for a realist's documentary-like style, like \"Schindler's List\" did, but they fail by making it seem too much like a documentary and at the same time, too much like a classic-style motion picture. Performances in the film range from passable to poor. Brendan Gleeson and Jon Voight gave decent enthusiasm for their roles, but it seemed to me at times that even they were getting kind of run down by the awful screenplay from which they were quoting. The sound design is also very primitive, probably in an attempt to give it a 40s crime-noir appeal, but that also fails because again, it's made too much like a contemporary picture and seems vastly out of place.<br /><br />But the worst thing that occurs is that there's not oneÂ—not oneÂ—character in the film that I felt any emotions or opinions for. In fact, for every moment of every scene, the only thought going through my head was \"okayÂ…so what?\" Moments that in a better film might come across as shocking or appalling are just dull and time-consuming here. I did not sympathize or hate the Brendan Gleeson character because the way the Cahill character is written is simply flat and dull. Gleeson just plays the common criminal and does not strike out with the impact the real Martin Cahill obviously did. If a character is killed off (as they always are in gangster films), we feel nothing. No remorse, no relief, no surprise, nothing. We just say \"so what?\" And that's all I did during the entire running time of this very flimsy, very poorly-made crime film. ------------ 0\n",
      "\n",
      "I watched it with my mom and we were like...<br /><br />What the hell? We didn't get it at all. I may have this wrong, but a chair had something to do with the death of this woman's father. That movie was terrible! This is not a movie for those who love a good suspense movie. Bad suspense movie! *shakes cane at movie* I'm never seeing it again. And I'm a big fan of lifetime movies, too! They kinda need to quit trying to make movies outta books. It's driving me crazy!!!<br /><br />And Whit was butt-ugly and yet, she loves him more than Hugh, who was a TINY bit nicer-looking.<br /><br />My rating: 1/10 ------------ 0\n",
      "\n",
      "This movie is probably one of 3 worst movies made in history. I rented this by chance, without reading reviews, and wow, do I regret it. Really has no plot, doesn't really follow the vampire genre. Just plain god awful. Watching this movie will taint your enthusiasm for vampire movies. I felt like the writer/director/producer went on this drug binge and had hallucinations and tried to recreate it on film. Whole time I wanted the movie to end.. but the ending was even more whacked. <br /><br />If this review can save just one person from watching this crap, I felt my time spent on registration and writing this review was well worth it. ------------ 0\n",
      "\n",
      "this movie is quite bad, aggressive, not played well, not directed well, seems low budget, low quality,emotionaly weak and disconnected. after watching earlier comments, went to see it, but if u try to compare it with apocalypse now, PLATOON, or any others, u'r really off the tracks. this movie looks like a 60's old and purely made film with cast of grown neanderthals, not to mention (or actually do), not paying attention to details like changing rounds, low budget fireworks and all sorts of poorly filmed characteristic. is watchable though, if u'd like to see it as an early development of the movies document.. not to go back!!<br /><br />p.s - afterall, the guys are quite alright. ------------ 0\n",
      "\n",
      "And a perfect film to watch during the holiday season as the winter/Xmas atmosphere that Burton creates for Gotham City is way cool. It's weird that Warner decided to release this as a summer film. It doesn't fit.<br /><br />But what's even weirder, when you consider the content of this film, is that it was aimed at families. An upper-class family throws their mutant baby down the sewer, a socio phobic billionaire dresses up in leather as a flying rodent, a lonely secretary dresses up in leather as a feline and a freak runs for political office. And S&M and bondage are presented in a very perverted way. But Burton got away with it. His visual style in this film is at it's best.<br /><br />This and Batman: Dead End are the only true live-action incarnations of the comic-book character. True, the animated series was the closest to the source material, but compared with Batman Forever and the un-nameable one after that, Batman Returns is the best of the four.<br /><br />Darker and more violent than the first movie, the sense of Gothic pathos reaches a new high. I was quite keen on Michael Keaton as Bruce Wayne (don't even get me started on George Clooney!), he displayed the right balance of weirdo loner and cool crime fighter. Michelle Pfieffer is great as Catwoman (much sexier and more 'realisticly' cat-like), she wears that leather outfit better than Halle Berry. And Danny DeVito was so convincing as the Penguin that his scenes became disturbing to watch. And Christopher Walken is brilliant as the spooky Max Shreck (if you think you recognise Chip Shrek it's none other than a very young Leatherface/Butterfinger).<br /><br />Danny Elfman's score is also even better than it was first time round. His powerful and engaging themes are way better than the dross that followed in the later 2 Schumacher movies. This movie is the Batman phenomenon at its Zenith. Forget the following sequels and stick to the animated series after this. Let's hope that Christopher Nolan and Christian Bale can bring some integrity back to the live action Batman with their movie next year.<br /><br />This DVD was one of the first ever DVDs released by Warner (almost 7 years ago!!!) and as a result there are NO features and the case is a snapper. Pick it up cheap like I did and hope for an SE in the future. ------------ 1\n",
      "\n",
      "I like Noel Coward, the wit. I like Noel Coward, the play write. I like Noel Coward, the composer and singer, but I loathe Noel Coward the actor.<br /><br />To me this is a man who should have stayed firmly behind the scenes, writing his plays and composing his music and making his profound and hilarious observations. He should never have been allowed in front of a camera.<br /><br />Make no mistake, he is one of the top outstanding talents of the 20th century but the man just couldn't act, and his voice...with it's rolling R's and it's overly round tonal quality...well it could quite easily grate cheese in my opinion.<br /><br />This is one of my least favourite offerings from Coward, as he unconvincingly portrays a psychiatrist embarking on an affair with a much younger woman, made worse by the fact that the much younger woman is an old school friend of his much younger wife.<br /><br />Celia Johnson is as much a joy to watch as ever as Cowards wronged wife. It is her performance that saves this film from abject dullness. I suppose her own little fling in Coward's Brief Encounter four years previously qualified her for this role as she must have raised a few eyebrows playing a such a promiscuous woman and this gave her the chance to win back a few fans and gain some lost sympathy.<br /><br />She was such a wonderful actress and you can see why Noel Coward used her so much in many of his productions.<br /><br />However the rest of the film is drab, badly acted, predictable and on the whole boring to almost arse-clenching level.<br /><br />If its Noel Coward you want then take the time to watch In Which We Serve, Blythe Spirit or This Happy Breed instead. Three Noel Coward treasures. With lovely films like these I suppose we can forgive him for this turkey.<br /><br />I have given this four stars purely for the addition of Miss Johnson, but on the whole I'd avoid this one like the plague. ------------ 0\n",
      "\n",
      "\"The Days\" is a typical family drama with a little catch - you must relate to the character's emotions in every way possible in order for you to truly appreciate the show.<br /><br />[Possible Spoilers For Those Who Are Unfamiliar With the Show]<br /><br />The story, obviously, for all the people who has watched the show, is the world of Cooper Day, the middle child of the family. He records his days with his family and hopes to become a rich and famous writer one day because of his observations. His family includes a mother, a father, a perfect sister, and a genius-little-brother. The first episode, which is going to sound a bit stupid since John Scott Shepard has created this situation - both the sister and mother gets pregnant. That's the first situation the writer hits. Then the father quits his job at the law firm. The youngest son gets a panic attack. The middle child gets in a fight with the sister's boyfriend. This is all in a day's work.<br /><br />[/Spoilers]<br /><br />I admire this show. I don't know. It's a bit crappy but I like it. First I thought the camera-work was a ripoff but then I got used it and started to like it. I liked the quiet conversations under a dark light. I liked the intimate feeling of the show. I liked the low-budget style. I liked the acting. I admire the story. Then I find myself wanting a second season of The Days. I slowly became a fan of it as the 6-episode airing on ABC came to an end. It's a really good show and it's nothing like The OC. The two have nothing in common. So I hope fans will stop comparing them.<br /><br />And if you can relate to either Abby, Jack, Natalie, Cooper or even Nate, you'll like this show. A lot. ------------ 1\n",
      "\n"
     ]
    }
   ],
   "source": [
    "for i in range(10):\n",
    "    print(df['review'][i],'------------',df['sentiment'][i])\n",
    "    print()"
   ]
  },
  {
   "cell_type": "code",
   "execution_count": 11,
   "id": "5a46081f",
   "metadata": {},
   "outputs": [],
   "source": [
    "import re\n",
    "from nltk.corpus import stopwords\n",
    "from nltk.stem import WordNetLemmatizer"
   ]
  },
  {
   "cell_type": "code",
   "execution_count": 12,
   "id": "708a4b9b",
   "metadata": {},
   "outputs": [],
   "source": [
    "def preprocess(sentence):\n",
    "    text=re.sub(r\"[^0-9A-Za-z]\",' ',sentence).split()\n",
    "    \n",
    "    text=[i.lower() for i in text if i not in stopwords.words('english')]\n",
    "    \n",
    "    lemma=WordNetLemmatizer()\n",
    "    text=[lemma.lemmatize(x,'v') for x in text]\n",
    "    \n",
    "    return ' '.join(text)"
   ]
  },
  {
   "cell_type": "code",
   "execution_count": 13,
   "id": "f88432af",
   "metadata": {},
   "outputs": [],
   "source": [
    "df['review']=df['review'].apply(preprocess)"
   ]
  },
  {
   "cell_type": "code",
   "execution_count": 14,
   "id": "3c5a9f0a",
   "metadata": {},
   "outputs": [
    {
     "name": "stdout",
     "output_type": "stream",
     "text": [
      "this movie crap even though directors claim part oi culture still bad directorial debut the topic interest i accept bad act due fact amateurs never act worst thing film dialogs unexperienced naive direct there time movie i felt like directors exit movie first feature actually never really ask story wanna tell i meet ben one directors several occasion nice thoughtful guy make director i think american history x full clich somehow manage transport story oi warn full clich tell anything new provocative sad thing movie far oi reality br br if wanna see weird great german film watch movies michael haneke christoph schlingensief oskar roehler hans weingartner oliver hirschbiegel br br benny video funny game die unber hrbare mein letzter film das experiment das weisse rauschen muxm uschenstill br br ten topic photography ------------ 0\n",
      "\n",
      "another detail work subject dr dwivedi take us back time pre partioned panjab dr dwivedi choose difficult subject movie debut he work meticulous detail bring story life the treatment subject delicate br br even though region time set costume look real unlike movies make partition one focus gory detail violence attract audience effect the character come life priyanshu chatterjee give impressive performance manoj bajpai act heart show plight guilt ride man the rest cast do good job ------------ 1\n",
      "\n",
      "the cat o nine tail il gatto nove code br br aspect ratio 2 35 1 cromoscope br br sound format mono br br 35mm 70mm release print br br a blind ex journalist karl malden overhear blackmail plot outside genetics research laboratory later team fellow reporter jam franciscus investigate series murder lab unwittingly place love ones mercy psychopathic killer br br rush production follow unexpected worldwide success directorial debut the bird with the crystal plumage 1969 dario argento conceive the cat o nine tail giallo thriller much vein forerunner toplining celebrate hollywood actor karl malden fresh appearance patton 1969 rise star franciscus the valley of gwangi sadly result film ads claim nine time suspenseful bird disappoint follow impeccably photograph stylishly execute plod aimless general consumption br br malden franciscus eminently watchable sympathetic roles cinematographer enrico menczer the dead be alive use wide cromoscope frame convey hi tech world argento dark hearted scenario unfold subplot involve euro starlet catherine spaak the libertine franciscus romantic interest amount little unnecessary pad highlight include unforgettable encounter black gloved assassin crowd railway station edit sleek assurance cult movie stalwart franco fraticelli nocturnal episode malden franciscus seek important clue inside moulder tomb fall prey killer devious machinations but despite flash brilliance film ramble aimlessly one scene next simmer gently without ever really come boil it surprise cat fail emulate runaway success bird release 1971 br br english version ------------ 0\n",
      "\n",
      "like movie genre good gangster movies bad gangster movies if ask name good gangster movie i dozens choose if ask name bad gangster movie probably first one pop mind one still sort depression disappointment week since i saw film first i promise last time that film the general unrelated 1926 silent film name this dry slow gangster epic raise question story easy follow filmmakers choose make rather flimsy endeavor br br like goodfellas 1990 american gangster 2007 two superior mob movies the general base real people true events the film revolve around irish criminal name martin cahill brendan gleeson start long chain crimes steal food teenager move rob museums house adult meanwhile police lead inspector name kenny jon voight try desperately vigorously prove one crimes convict kill br br perhaps film category marvelous goodfellas 1990 first two godfather film i expect much the general but may go easy this would bad film i see aforementioned masterpieces swamp boredom oater far stretch run time scream bad scenes let start knock film look style present for reason director john boorman cinematographer seamus deasy select film movie black white style presentation clearly elements belong full fledge color film now i nothing b w picture even ones make modern day time schindler list 1993 ninety percent film black white masterpiece the general make five years schindler list the cinematography also far blow high light key seem distract give movie video game like quality i find simply annoy the filmmakers obviously go realist documentary like style like schindler list fail make seem much like documentary time much like classic style motion picture performances film range passable poor brendan gleeson jon voight give decent enthusiasm roles seem time even get kind run awful screenplay quote the sound design also primitive probably attempt give 40s crime noir appeal also fail make much like contemporary picture seem vastly place br br but worst thing occur one one character film i felt emotions opinions in fact every moment every scene think go head okay moments better film might come across shock appal dull time consume i sympathize hate brendan gleeson character way cahill character write simply flat dull gleeson play common criminal strike impact real martin cahill obviously if character kill always gangster film feel nothing no remorse relief surprise nothing we say and i entire run time flimsy poorly make crime film ------------ 0\n",
      "\n",
      "i watch mom like br br what hell we get i may wrong chair something death woman father that movie terrible this movie love good suspense movie bad suspense movie shake cane movie i never see and i big fan lifetime movies they kinda need quit try make movies outta book it drive crazy br br and whit butt ugly yet love hugh tiny bite nicer look br br my rat 1 10 ------------ 0\n",
      "\n",
      "this movie probably one 3 worst movies make history i rent chance without read review wow i regret really plot really follow vampire genre just plain god awful watch movie taint enthusiasm vampire movies i felt like writer director producer go drug binge hallucinations try recreate film whole time i want movie end end even whack br br if review save one person watch crap i felt time spend registration write review well worth ------------ 0\n",
      "\n",
      "movie quite bad aggressive play well direct well seem low budget low quality emotionaly weak disconnect watch earlier comment go see u try compare apocalypse platoon others u r really track movie look like 60 old purely make film cast grow neanderthals mention actually pay attention detail like change round low budget fireworks sort poorly film characteristic watchable though u like see early development movies document go back br br p afterall guy quite alright ------------ 0\n",
      "\n",
      "and perfect film watch holiday season winter xmas atmosphere burton create gotham city way cool it weird warner decide release summer film it fit br br but even weirder consider content film aim families an upper class family throw mutant baby sewer socio phobic billionaire dress leather fly rodent lonely secretary dress leather feline freak run political office and s m bondage present pervert way but burton get away his visual style film best br br this batman dead end true live action incarnations comic book character true animate series closest source material compare batman forever un nameable one batman return best four br br darker violent first movie sense gothic pathos reach new high i quite keen michael keaton bruce wayne even get start george clooney display right balance weirdo loner cool crime fighter michelle pfieffer great catwoman much sexier realisticly cat like wear leather outfit better halle berry and danny devito convince penguin scenes become disturb watch and christopher walken brilliant spooky max shreck think recognise chip shrek none young leatherface butterfinger br br danny elfman score also even better first time round his powerful engage theme way better dross follow later 2 schumacher movies this movie batman phenomenon zenith forget follow sequels stick animate series let hope christopher nolan christian bale bring integrity back live action batman movie next year br br this dvd one first ever dvds release warner almost 7 years ago result no feature case snapper pick cheap like i hope se future ------------ 1\n",
      "\n",
      "i like noel coward wit i like noel coward play write i like noel coward composer singer i loathe noel coward actor br br to man stay firmly behind scenes write play compose music make profound hilarious observations he never allow front camera br br make mistake one top outstanding talents 20th century man act voice roll r overly round tonal quality well could quite easily grate cheese opinion br br this one least favourite offer coward unconvincingly portray psychiatrist embark affair much younger woman make worse fact much younger woman old school friend much younger wife br br celia johnson much joy watch ever cowards wrong wife it performance save film abject dullness i suppose little fling coward brief encounter four years previously qualify role must raise eyebrows play promiscuous woman give chance win back fan gain lose sympathy br br she wonderful actress see noel coward use much many productions br br however rest film drab badly act predictable whole bore almost arse clench level br br if noel coward want take time watch in which we serve blythe spirit this happy breed instead three noel coward treasure with lovely film like i suppose forgive turkey br br i give four star purely addition miss johnson whole i avoid one like plague ------------ 0\n",
      "\n",
      "the days typical family drama little catch must relate character emotions every way possible order truly appreciate show br br possible spoilers for those who be unfamiliar with show br br the story obviously people watch show world cooper day middle child family he record days family hop become rich famous writer one day observations his family include mother father perfect sister genius little brother the first episode go sound bite stupid since john scott shepard create situation sister mother get pregnant that first situation writer hit then father quit job law firm the youngest son get panic attack the middle child get fight sister boyfriend this day work br br spoilers br br i admire show i know it bite crappy i like first i think camera work ripoff i get use start like i like quiet conversations dark light i like intimate feel show i like low budget style i like act i admire story then i find want second season the days i slowly become fan 6 episode air abc come end it really good show nothing like the oc the two nothing common so i hope fan stop compare br br and relate either abby jack natalie cooper even nate like show a lot ------------ 1\n",
      "\n"
     ]
    }
   ],
   "source": [
    "for i in range(10):\n",
    "    print(df['review'][i],'------------',df['sentiment'][i])\n",
    "    print()"
   ]
  },
  {
   "cell_type": "code",
   "execution_count": 15,
   "id": "c14b2346",
   "metadata": {},
   "outputs": [],
   "source": [
    "x=df['review']\n",
    "y=df['sentiment']"
   ]
  },
  {
   "cell_type": "code",
   "execution_count": 16,
   "id": "0b0c4ec2",
   "metadata": {},
   "outputs": [],
   "source": [
    "from tensorflow.keras.preprocessing.text import Tokenizer\n",
    "from tensorflow.keras.preprocessing.sequence import pad_sequences"
   ]
  },
  {
   "cell_type": "code",
   "execution_count": 17,
   "id": "e4022511",
   "metadata": {},
   "outputs": [],
   "source": [
    "tokenizer=Tokenizer(num_words=10000)"
   ]
  },
  {
   "cell_type": "code",
   "execution_count": 18,
   "id": "74e65696",
   "metadata": {},
   "outputs": [],
   "source": [
    "tokenizer.fit_on_texts(x)"
   ]
  },
  {
   "cell_type": "code",
   "execution_count": 19,
   "id": "7a24ef64",
   "metadata": {},
   "outputs": [],
   "source": [
    "vocab_size=len(tokenizer.word_index)+1"
   ]
  },
  {
   "cell_type": "code",
   "execution_count": 20,
   "id": "c7d1bebb",
   "metadata": {},
   "outputs": [
    {
     "data": {
      "text/plain": [
       "<keras.preprocessing.text.Tokenizer at 0x2a25c8f70d0>"
      ]
     },
     "execution_count": 20,
     "metadata": {},
     "output_type": "execute_result"
    }
   ],
   "source": [
    "tokenizer"
   ]
  },
  {
   "cell_type": "code",
   "execution_count": 21,
   "id": "50084782",
   "metadata": {},
   "outputs": [],
   "source": [
    "def encoding(txt):\n",
    "    encoded=tokenizer.texts_to_sequences(txt)\n",
    "    \n",
    "    padded=pad_sequences(encoded,maxlen=128)\n",
    "    \n",
    "    return padded"
   ]
  },
  {
   "cell_type": "code",
   "execution_count": 22,
   "id": "ca1e7cfd",
   "metadata": {},
   "outputs": [],
   "source": [
    "from sklearn.model_selection import train_test_split"
   ]
  },
  {
   "cell_type": "code",
   "execution_count": 23,
   "id": "bf65f4b4",
   "metadata": {},
   "outputs": [],
   "source": [
    "x_train,x_test,y_train,y_test=train_test_split(x,y,test_size=0.25)"
   ]
  },
  {
   "cell_type": "code",
   "execution_count": 24,
   "id": "b997c3da",
   "metadata": {},
   "outputs": [],
   "source": [
    "x_train=encoding(x_train)\n",
    "x_test=encoding(x_test)"
   ]
  },
  {
   "cell_type": "code",
   "execution_count": 25,
   "id": "96db288c",
   "metadata": {},
   "outputs": [],
   "source": [
    "from tensorflow.keras import Sequential,layers"
   ]
  },
  {
   "cell_type": "code",
   "execution_count": 26,
   "id": "8b3684ff",
   "metadata": {},
   "outputs": [],
   "source": [
    "model = Sequential()\n",
    "\n",
    "model.add(layers.Embedding(vocab_size, 128))\n",
    "\n",
    "model.add(layers.Bidirectional(layers.LSTM(128, return_sequences=True)))\n",
    "model.add(layers.Dropout(0.2))\n",
    "\n",
    "model.add(layers.Bidirectional(layers.LSTM(128)))\n",
    "model.add(layers.Dropout(0.2))\n",
    "\n",
    "model.add(layers.Dense(1, activation = 'sigmoid'))"
   ]
  },
  {
   "cell_type": "code",
   "execution_count": 27,
   "id": "38a42018",
   "metadata": {},
   "outputs": [
    {
     "name": "stdout",
     "output_type": "stream",
     "text": [
      "Model: \"sequential\"\n",
      "_________________________________________________________________\n",
      " Layer (type)                Output Shape              Param #   \n",
      "=================================================================\n",
      " embedding (Embedding)       (None, None, 128)         5614720   \n",
      "                                                                 \n",
      " bidirectional (Bidirectiona  (None, None, 256)        263168    \n",
      " l)                                                              \n",
      "                                                                 \n",
      " dropout (Dropout)           (None, None, 256)         0         \n",
      "                                                                 \n",
      " bidirectional_1 (Bidirectio  (None, 256)              394240    \n",
      " nal)                                                            \n",
      "                                                                 \n",
      " dropout_1 (Dropout)         (None, 256)               0         \n",
      "                                                                 \n",
      " dense (Dense)               (None, 1)                 257       \n",
      "                                                                 \n",
      "=================================================================\n",
      "Total params: 6,272,385\n",
      "Trainable params: 6,272,385\n",
      "Non-trainable params: 0\n",
      "_________________________________________________________________\n"
     ]
    }
   ],
   "source": [
    "model.summary()"
   ]
  },
  {
   "cell_type": "code",
   "execution_count": 28,
   "id": "fd0c5e61",
   "metadata": {},
   "outputs": [],
   "source": [
    "model.compile(optimizer='adam',loss='binary_crossentropy',metrics=['accuracy'])"
   ]
  },
  {
   "cell_type": "code",
   "execution_count": 29,
   "id": "225b238f",
   "metadata": {},
   "outputs": [
    {
     "name": "stdout",
     "output_type": "stream",
     "text": [
      "Epoch 1/15\n",
      "211/211 [==============================] - 223s 1s/step - loss: 0.5060 - accuracy: 0.7421 - val_loss: 0.4179 - val_accuracy: 0.8067\n",
      "Epoch 2/15\n",
      "211/211 [==============================] - 240s 1s/step - loss: 0.2553 - accuracy: 0.9027 - val_loss: 0.4366 - val_accuracy: 0.8333\n",
      "Epoch 3/15\n",
      "211/211 [==============================] - 233s 1s/step - loss: 0.1133 - accuracy: 0.9625 - val_loss: 0.5796 - val_accuracy: 0.8107\n",
      "Epoch 4/15\n",
      "211/211 [==============================] - 229s 1s/step - loss: 0.0523 - accuracy: 0.9827 - val_loss: 0.5637 - val_accuracy: 0.8293\n",
      "Epoch 5/15\n",
      "211/211 [==============================] - 227s 1s/step - loss: 0.0344 - accuracy: 0.9893 - val_loss: 0.7317 - val_accuracy: 0.7973\n",
      "Epoch 6/15\n",
      "211/211 [==============================] - 228s 1s/step - loss: 0.0261 - accuracy: 0.9923 - val_loss: 0.9274 - val_accuracy: 0.8173\n",
      "Epoch 7/15\n",
      "211/211 [==============================] - 231s 1s/step - loss: 0.0302 - accuracy: 0.9911 - val_loss: 0.8692 - val_accuracy: 0.8307\n",
      "Epoch 8/15\n",
      "211/211 [==============================] - 229s 1s/step - loss: 0.0225 - accuracy: 0.9927 - val_loss: 0.8916 - val_accuracy: 0.8253\n",
      "Epoch 9/15\n",
      "211/211 [==============================] - 229s 1s/step - loss: 0.0095 - accuracy: 0.9979 - val_loss: 1.0242 - val_accuracy: 0.8200\n",
      "Epoch 10/15\n",
      "211/211 [==============================] - 215s 1s/step - loss: 0.0071 - accuracy: 0.9985 - val_loss: 0.9543 - val_accuracy: 0.8173\n",
      "Epoch 11/15\n",
      "211/211 [==============================] - 230s 1s/step - loss: 0.0144 - accuracy: 0.9953 - val_loss: 1.2293 - val_accuracy: 0.8160\n",
      "Epoch 12/15\n",
      "211/211 [==============================] - 215s 1s/step - loss: 0.0197 - accuracy: 0.9942 - val_loss: 1.0786 - val_accuracy: 0.8120\n",
      "Epoch 13/15\n",
      "211/211 [==============================] - 215s 1s/step - loss: 0.0168 - accuracy: 0.9941 - val_loss: 1.0079 - val_accuracy: 0.8133\n",
      "Epoch 14/15\n",
      "211/211 [==============================] - 231s 1s/step - loss: 0.0178 - accuracy: 0.9948 - val_loss: 1.0465 - val_accuracy: 0.8187\n",
      "Epoch 15/15\n",
      "211/211 [==============================] - 224s 1s/step - loss: 0.0074 - accuracy: 0.9976 - val_loss: 1.1254 - val_accuracy: 0.8107\n"
     ]
    },
    {
     "data": {
      "text/plain": [
       "<keras.callbacks.History at 0x2a25e838d60>"
      ]
     },
     "execution_count": 29,
     "metadata": {},
     "output_type": "execute_result"
    }
   ],
   "source": [
    "model.fit(x_train,y_train,epochs=15,validation_split=0.10)"
   ]
  },
  {
   "cell_type": "code",
   "execution_count": 30,
   "id": "f046dc68",
   "metadata": {},
   "outputs": [
    {
     "name": "stdout",
     "output_type": "stream",
     "text": [
      "79/79 [==============================] - 24s 249ms/step\n"
     ]
    }
   ],
   "source": [
    "y_pred=model.predict(x_test)"
   ]
  },
  {
   "cell_type": "code",
   "execution_count": 31,
   "id": "a731117d",
   "metadata": {},
   "outputs": [],
   "source": [
    "predicted=[]\n",
    "\n",
    "for i in y_pred:\n",
    "    if i>0.5:\n",
    "        predicted.append(1)\n",
    "    else:\n",
    "        predicted.append(0)"
   ]
  },
  {
   "cell_type": "code",
   "execution_count": 32,
   "id": "8080ff50",
   "metadata": {},
   "outputs": [],
   "source": [
    "from sklearn.metrics import accuracy_score,confusion_matrix,classification_report"
   ]
  },
  {
   "cell_type": "code",
   "execution_count": 33,
   "id": "ee6a33f2",
   "metadata": {},
   "outputs": [
    {
     "data": {
      "text/plain": [
       "0.8254603682946358"
      ]
     },
     "execution_count": 33,
     "metadata": {},
     "output_type": "execute_result"
    }
   ],
   "source": [
    "accuracy_score(y_test,predicted)"
   ]
  },
  {
   "cell_type": "code",
   "execution_count": 34,
   "id": "d5fd1093",
   "metadata": {},
   "outputs": [
    {
     "data": {
      "text/plain": [
       "<AxesSubplot:>"
      ]
     },
     "execution_count": 34,
     "metadata": {},
     "output_type": "execute_result"
    },
    {
     "data": {
      "image/png": "[encoded data removed]",
      "text/plain": [
       "<Figure size 640x480 with 2 Axes>"
      ]
     },
     "metadata": {},
     "output_type": "display_data"
    }
   ],
   "source": [
    "sns.heatmap(confusion_matrix(y_test,predicted),annot=True,fmt='d')"
   ]
  },
  {
   "cell_type": "code",
   "execution_count": 35,
   "id": "ebd6ab73",
   "metadata": {},
   "outputs": [
    {
     "name": "stdout",
     "output_type": "stream",
     "text": [
      "              precision    recall  f1-score   support\n",
      "\n",
      "           0       0.81      0.84      0.83      1248\n",
      "           1       0.84      0.81      0.82      1250\n",
      "\n",
      "    accuracy                           0.83      2498\n",
      "   macro avg       0.83      0.83      0.83      2498\n",
      "weighted avg       0.83      0.83      0.83      2498\n",
      "\n"
     ]
    }
   ],
   "source": [
    "print(classification_report(y_test,predicted))"
   ]
  },
  {
   "cell_type": "code",
   "execution_count": null,
   "id": "e9075f62",
   "metadata": {},
   "outputs": [],
   "source": []
  }
 ],
 "metadata": {
  "kernelspec": {
   "display_name": "Python 3 (ipykernel)",
   "language": "python",
   "name": "python3"
  },
  "language_info": {
   "codemirror_mode": {
    "name": "ipython",
    "version": 3
   },
   "file_extension": ".py",
   "mimetype": "text/x-python",
   "name": "python",
   "nbconvert_exporter": "python",
   "pygments_lexer": "ipython3",
   "version": "3.9.13"
  }
 },
 "nbformat": 4,
 "nbformat_minor": 5
}
